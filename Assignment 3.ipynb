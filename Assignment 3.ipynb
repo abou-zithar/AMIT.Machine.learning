{
 "cells": [
  {
   "cell_type": "markdown",
   "metadata": {},
   "source": [
    "# Assignment 3"
   ]
  },
  {
   "cell_type": "markdown",
   "metadata": {},
   "source": [
    "### Write a function to count the number 4 in a given list."
   ]
  },
  {
   "cell_type": "code",
   "execution_count": 61,
   "metadata": {
    "collapsed": true
   },
   "outputs": [],
   "source": [
    "a=[1,2,3,4,54,4,4,4]\n",
    "#create a list to try my code\n",
    "\n",
    "def counter0f4(A):\n",
    "    counter=0\n",
    "    for i in A:\n",
    "        if i==4:\n",
    "            counter+=1\n",
    "    counter\n",
    "\n",
    "counter0f4(a)\n",
    "\n"
   ]
  },
  {
   "cell_type": "markdown",
   "metadata": {},
   "source": [
    "### write a  function to check whether a number is divisible by another number."
   ]
  },
  {
   "cell_type": "code",
   "execution_count": 60,
   "metadata": {
    "collapsed": true
   },
   "outputs": [
    {
     "name": "stdout",
     "output_type": "stream",
     "text": [
      " number is divisible by another number\n"
     ]
    }
   ],
   "source": [
    "inputNumber=int(input('please enter your Number'))\n",
    "list1 = [i for i in range(inputNumber)]\n",
    "Flag=0\n",
    "def divnum(list1,Flag):\n",
    "    for i in range(2,len(list1)):\n",
    "        if inputNumber%i==0:\n",
    "            Flag=1\n",
    "        else:\n",
    "            pass\n",
    "    if Flag==0:\n",
    "        print (' number isn\\'t divisible by another number')\n",
    "    else:\n",
    "        print (' number is divisible by another number')\n",
    "\n",
    "divnum(list1,Flag)\n",
    "        \n",
    "        \n",
    "\n",
    "    \n",
    "\n",
    "        \n",
    "\n"
   ]
  },
  {
   "cell_type": "markdown",
   "metadata": {},
   "source": [
    "### write a function to find the maximum and minimum numbers from a sequence of numbers."
   ]
  },
  {
   "cell_type": "code",
   "execution_count": 59,
   "metadata": {
    "collapsed": true
   },
   "outputs": [
    {
     "data": {
      "text/plain": [
       "423"
      ]
     },
     "execution_count": 59,
     "metadata": {},
     "output_type": "execute_result"
    }
   ],
   "source": [
    "A=[1,4,6,1,6,89,0,3,12,213,423,45,3]\n",
    "\n",
    "def maxx(a):\n",
    "    maxx=a[0]\n",
    "    for i in A: \n",
    "        if i>maxx:\n",
    "             maxx=i\n",
    "    return maxx\n",
    "maxx(A)\n"
   ]
  },
  {
   "cell_type": "markdown",
   "metadata": {},
   "source": [
    "### Write a Python function that takes two lists and returns True if they have at least one common member."
   ]
  },
  {
   "cell_type": "code",
   "execution_count": 4,
   "metadata": {
    "collapsed": true
   },
   "outputs": [
    {
     "name": "stdout",
     "output_type": "stream",
     "text": [
      "it isn't matched\n"
     ]
    }
   ],
   "source": [
    "N1=[1,2,3,4,5,6,7,8,9]\n",
    "N2=[88,11,22,44,33,77,55,66,99]\n",
    "\n",
    "flag=1\n",
    "def matchedList(N,n,flag):\n",
    "    for i in N:\n",
    "        for j in n:\n",
    "            if i==j:\n",
    "                # print('match')\n",
    "                flag=0\n",
    "            else:\n",
    "                # print('N\\'t matched')\n",
    "                pass\n",
    "    if flag==0:\n",
    "        print('matched')\n",
    "    else:\n",
    "        print('it isn\\'t matched')\n",
    "\n",
    "matchedList(N1,N2,flag)\n",
    "\n",
    "\n"
   ]
  },
  {
   "cell_type": "markdown",
   "metadata": {},
   "source": [
    "### Write a Python function to calculate the factorial of a number (a non-negative integer). The function accepts the number from the user"
   ]
  },
  {
   "cell_type": "code",
   "execution_count": 6,
   "metadata": {
    "collapsed": true
   },
   "outputs": [
    {
     "data": {
      "text/plain": [
       "3628800"
      ]
     },
     "execution_count": 6,
     "metadata": {},
     "output_type": "execute_result"
    }
   ],
   "source": [
    "inputNumber=int(input('please enter your Number'))\n",
    "def fact(inputNumber):\n",
    "    if inputNumber<0:\n",
    "        print('the input you enter is not valid ')\n",
    "        return 0\n",
    "    if inputNumber==0 :\n",
    "        return 1\n",
    "    else:\n",
    "        return inputNumber*fact(inputNumber-1)\n",
    "fact(inputNumber)"
   ]
  },
  {
   "cell_type": "markdown",
   "metadata": {},
   "source": [
    "### Write a Python function to check whether a number is in a given range.\n",
    "\n",
    "### The range is from 3 to 11\n"
   ]
  },
  {
   "cell_type": "code",
   "execution_count": 28,
   "metadata": {
    "collapsed": true
   },
   "outputs": [
    {
     "name": "stdout",
     "output_type": "stream",
     "text": [
      "out of range \n"
     ]
    }
   ],
   "source": [
    "inputNumber=int(input('please enter your Number'))\n",
    "def inrange3_11(inputNumber):\n",
    "    Flag=False\n",
    "    for i in range(3,12):\n",
    "        # print(i)\n",
    "        if inputNumber==i:\n",
    "            Flag= True\n",
    "        else:\n",
    "            pass\n",
    "    if Flag:\n",
    "        return True\n",
    "    else:\n",
    "        return False\n",
    "\n",
    "    \n",
    "if inrange3_11(inputNumber):\n",
    "    print('in range ')\n",
    "else:\n",
    "    print('out of range ')"
   ]
  },
  {
   "cell_type": "markdown",
   "metadata": {},
   "source": [
    "### Write a  program to create the multiplication table (from 1 to 10) of a number."
   ]
  },
  {
   "cell_type": "code",
   "execution_count": 32,
   "metadata": {
    "collapsed": true
   },
   "outputs": [
    {
     "name": "stdout",
     "output_type": "stream",
     "text": [
      "6*0=0\n",
      "6*1=6\n",
      "6*2=12\n",
      "6*3=18\n",
      "6*4=24\n",
      "6*5=30\n",
      "6*6=36\n",
      "6*7=42\n",
      "6*8=48\n",
      "6*9=54\n",
      "6*10=60\n"
     ]
    }
   ],
   "source": [
    "inputNumber=int(input('please enter your Number'))\n",
    "def multiplication_table(inputNumber):\n",
    "    list1 = [i for i in range(11)]\n",
    "    for i in list1:\n",
    "        print('{}*{}={}'.format(inputNumber,i,inputNumber*i))\n",
    "\n",
    "multiplication_table(inputNumber)"
   ]
  },
  {
   "cell_type": "markdown",
   "metadata": {},
   "source": [
    "#### LESSER OF TWO EVENS: Write a function that returns the lesser of two given numbers *if* both numbers are even, but returns the greater if one or both numbers are odd\n",
    "    lesser_of_two_evens(2,4) --> 2\n",
    "    lesser_of_two_evens(2,5) --> 5"
   ]
  },
  {
   "cell_type": "code",
   "execution_count": 41,
   "metadata": {},
   "outputs": [
    {
     "data": {
      "text/plain": [
       "4"
      ]
     },
     "execution_count": 41,
     "metadata": {},
     "output_type": "execute_result"
    }
   ],
   "source": [
    "x=int(input('please enter your Number'))\n",
    "y=int(input('please enter your second Number'))\n",
    "\n",
    "def lesser_of_two_evens(x,y):\n",
    "    if(x%2==0 and y%2==0):\n",
    "        if(x>y):\n",
    "            return y\n",
    "        else:\n",
    "            return x\n",
    "    else:\n",
    "        if(x>y):\n",
    "            return x\n",
    "        else:\n",
    "            return y\n",
    "\n",
    "lesser_of_two_evens(x,y)\n",
    "\n",
    "\n",
    "\n"
   ]
  },
  {
   "cell_type": "code",
   "execution_count": null,
   "metadata": {},
   "outputs": [],
   "source": []
  },
  {
   "cell_type": "code",
   "execution_count": null,
   "metadata": {},
   "outputs": [],
   "source": []
  },
  {
   "cell_type": "markdown",
   "metadata": {},
   "source": [
    "#### ANIMAL CRACKERS: Write a function takes a two-word string and returns True if both words begin with same letter\n",
    "    animal_crackers('Levelheaded Llama') --> True\n",
    "    animal_crackers('Crazy Kangaroo') --> False"
   ]
  },
  {
   "cell_type": "code",
   "execution_count": 44,
   "metadata": {},
   "outputs": [
    {
     "name": "stdout",
     "output_type": "stream",
     "text": [
      "True\n"
     ]
    }
   ],
   "source": [
    "word1='Levelheaded Llama'\n",
    "word2='Crazy Kangaroo'\n",
    "l=word1.split( )\n",
    "\n",
    "def FristletterMatdhed():\n",
    "    if l[0][0]==l[1][0]:\n",
    "        return True\n",
    "    else:\n",
    "        return False\n",
    "\n",
    "print(FristletterMatdhed())"
   ]
  },
  {
   "cell_type": "markdown",
   "metadata": {},
   "source": [
    "#### MAKES TWENTY: Given two integers, return True if the sum of the integers is 20 *or* if one of the integers is 20. If not, return False\n",
    "\n",
    "    makes_twenty(20,10) --> True\n",
    "    makes_twenty(12,8) --> True\n",
    "    makes_twenty(2,3) --> False"
   ]
  },
  {
   "cell_type": "code",
   "execution_count": 71,
   "metadata": {},
   "outputs": [
    {
     "data": {
      "text/plain": [
       "True"
      ]
     },
     "execution_count": 71,
     "metadata": {},
     "output_type": "execute_result"
    }
   ],
   "source": [
    "\n",
    "\n",
    "def makes_twenty(x,y):\n",
    "\n",
    "    if x==20 or y==20:\n",
    "        return True\n",
    "    elif (x+y)==20:\n",
    "        return True\n",
    "    else:\n",
    "        return False\n",
    "\n",
    "\n",
    "makes_twenty(20,10) \n",
    "makes_twenty(12,8) \n",
    "makes_twenty(2,3)\n",
    "\n"
   ]
  },
  {
   "cell_type": "markdown",
   "metadata": {},
   "source": [
    "#### ALMOST THERE: Given an integer n, return True if n is within 10 of either 100 or 200\n",
    "\n",
    "    almost_there(90) --> True\n",
    "    almost_there(104) --> True\n",
    "    almost_there(150) --> False\n",
    "    almost_there(209) --> True\n",
    "    \n",
    "NOTE: `abs(num)` returns the absolute value of a number"
   ]
  },
  {
   "cell_type": "code",
   "execution_count": 68,
   "metadata": {},
   "outputs": [
    {
     "data": {
      "text/plain": [
       "True"
      ]
     },
     "execution_count": 68,
     "metadata": {},
     "output_type": "execute_result"
    }
   ],
   "source": [
    "\n",
    "\n",
    "def almost_there(x):\n",
    "    for i in range(100-10,100+11):\n",
    "        if x==i:\n",
    "            return True\n",
    "        else:\n",
    "            pass\n",
    "    for i in range(200-10,200+11):\n",
    "        if x==i:\n",
    "            return True\n",
    "        else:\n",
    "           pass\n",
    "    return False\n",
    "\n",
    "almost_there(90) \n",
    "almost_there(104) \n",
    "almost_there(150) \n",
    "almost_there(209)"
   ]
  },
  {
   "cell_type": "markdown",
   "metadata": {},
   "source": [
    "#### BLACKJACK: Given three integers between 1 and 11, if their sum is less than or equal to 21, return their sum. If their sum exceeds 21 *and* there's an eleven, reduce the total sum by 10. Finally, if the sum  exceeds 21, return 'BUST'\n",
    "    blackjack(5,6,7) --> 18\n",
    "    blackjack(9,9,9) --> 'BUST'\n",
    "    blackjack(9,9,11) --> 19"
   ]
  },
  {
   "cell_type": "code",
   "execution_count": 64,
   "metadata": {},
   "outputs": [
    {
     "data": {
      "text/plain": [
       "'BUST'"
      ]
     },
     "execution_count": 64,
     "metadata": {},
     "output_type": "execute_result"
    }
   ],
   "source": [
    "def blackjack(x,y,z):\n",
    "    summ=x+y+z\n",
    "    if summ<=21:\n",
    "        return summ\n",
    "    elif summ>21 and (x==11 or y==11 or z==11):\n",
    "        return summ-10\n",
    "    elif summ>21:\n",
    "        return 'BUST'\n",
    "\n",
    "blackjack(5,6,7)\n",
    "blackjack(9,9,9) \n",
    "# blackjack(9,9,11)"
   ]
  }
 ],
 "metadata": {
  "kernelspec": {
   "display_name": "Python 3",
   "language": "python",
   "name": "python3"
  },
  "language_info": {
   "codemirror_mode": {
    "name": "ipython",
    "version": 3
   },
   "file_extension": ".py",
   "mimetype": "text/x-python",
   "name": "python",
   "nbconvert_exporter": "python",
   "pygments_lexer": "ipython3",
   "version": "3.8.5"
  }
 },
 "nbformat": 4,
 "nbformat_minor": 2
}
